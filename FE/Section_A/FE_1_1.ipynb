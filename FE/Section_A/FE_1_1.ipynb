{
  "nbformat": 4,
  "nbformat_minor": 0,
  "metadata": {
    "colab": {
      "provenance": []
    },
    "kernelspec": {
      "name": "python3",
      "display_name": "Python 3"
    },
    "language_info": {
      "name": "python"
    }
  },
  "cells": [
    {
      "cell_type": "markdown",
      "source": [],
      "metadata": {
        "id": "r4uElvOT4yeE"
      }
    },
    {
      "cell_type": "markdown",
      "source": [
        "# 2進数\n",
        "\n",
        "---\n",
        "[Google Colaboratoryで開く](https://colab.research.google.com/github/202408pythonciot/IPA_Exam/blob/main/FE/Section_A/FE_1_1.ipynb)\n",
        "\n",
        "<a target=\"_blank\" href=\"https://colab.research.google.com/github/202408pythonciot/IPA_Exam/blob/main/FE/Section_A/FE_1_1.ipynb\">\n",
        "  <img src=\"https://colab.research.google.com/assets/colab-badge.svg\" alt=\"Open In Colab\"/>\n",
        "</a>\n",
        "\n",
        "---\n",
        "\n",
        "コンピュータでは一般的に2進数を扱います。2進数では，\"0\"と\"1\"だけで数値を表します。\n",
        "\n",
        "電気回路でコンピュータを実現するのに，2進数はとても適しています。例えば，スイッチの\"ON\"・\"OFF\"，電圧の\"低\"・\"高\"，磁気の\"S極\"・\"N極\"，穴の\"有\"・\"無\"，光の\"受光\"・\"非受光\"などで2つの状態を表現することができればよいことになります。\n",
        "\n",
        "物理的制約のあるところで2つの基準値だけ扱うことをデジタル表現といいます。中間値を用いないことで，ノイズや外乱の影響を受けずに済みます。これが「デジタルは劣化しない」という長所が生まれます。\n",
        "\n",
        "そしてスイッチをつかって別のスイッチの\"ON\"・\"OFF\"ができるものがあります。初期のコンピュータでは**真空管**，その後に登場した**(MOS)トランジスタ**です。これをコンピュータの基本素子と呼ぶこともあります。この基本素子により，「**スイッチの出力をつかって他のスイッチのON/OFFが自動的にできる**」ようになったことで電子計算機が実現しました。\n",
        "\n",
        "つまり2つの状態の扱い方（2進数）がコンピュータを理解する基本になります。"
      ],
      "metadata": {
        "id": "4Duj63g-oOxJ"
      }
    },
    {
      "cell_type": "markdown",
      "source": [
        "## n進数と基数\n",
        "\n",
        "基数とは，位取りをつかって数を表す場合に，各桁の重み付けの基本となる数のことです。10進数では基数は\"10\"，2進数では基数が\"2\"になります。一般化してn進数の基数はnになります。桁の位が一つ上がると基数倍になります。"
      ],
      "metadata": {
        "id": "diwIbPUuD57-"
      }
    },
    {
      "cell_type": "markdown",
      "source": [
        "## 2進数を10進数で表す\n",
        "2進数が$b_7 b_6 b_5 b_4 b_3 b_2 b_1 b_0 $で与えられたとき，これを10進数に直すには以下の計算式を解くことになります。\n",
        "\n",
        "$$\n",
        "b_7 \\times 2^{7} + b_6 \\times 2^{6} + b_5 \\times 2^{5} + b_4 \\times 2^{4} + b_3 \\times 2^{3} + b_2 \\times 2^{2} + b_1 \\times 2^{1} + b_0 \\times 2^{0}\n",
        "$$\n",
        "\n",
        "例えば2進数の\"00101101\"を定義通りにpythonで10進数に変換するプログラムを書いてみます。"
      ],
      "metadata": {
        "id": "7XCgwqvipJIM"
      }
    },
    {
      "cell_type": "code",
      "source": [
        "num = 0 * (2**7) + 0 * (2**6) + 1 * (2**5) + 0 * (2**4) + 1 * (2**3) + 1 * (2**2) + 0 * (2**1) + 1 * (2**0)\n",
        "print(f'{num}')"
      ],
      "metadata": {
        "colab": {
          "base_uri": "https://localhost:8080/"
        },
        "id": "Fkw-EvgRpLNd",
        "outputId": "1113679a-1130-4db5-df42-261edd89ead8"
      },
      "execution_count": null,
      "outputs": [
        {
          "output_type": "stream",
          "name": "stdout",
          "text": [
            "45\n"
          ]
        }
      ]
    },
    {
      "cell_type": "markdown",
      "source": [],
      "metadata": {
        "id": "rMXULVtFC7fJ"
      }
    },
    {
      "cell_type": "code",
      "execution_count": null,
      "metadata": {
        "colab": {
          "base_uri": "https://localhost:8080/"
        },
        "id": "Mmqr7oUamg-h",
        "outputId": "c1ac5726-f7ae-4d17-a5b0-576e335d0cfa"
      },
      "outputs": [
        {
          "output_type": "stream",
          "name": "stdout",
          "text": [
            "10進数の 45 を2進数で表すと 00101101\n"
          ]
        }
      ],
      "source": [
        "num = 45\n",
        "print(f'10進数の {num} を2進数で表すと {num:08b}')"
      ]
    },
    {
      "cell_type": "markdown",
      "source": [
        "### **<font color= \"#a00\">確認問題</font>**\n",
        "**※基本情報技術者　平成28年度秋期　問4**\n",
        "\n",
        "32ビットで表現できるビットパターンの個数は，24ビットで表現できる個数の何倍か。\n",
        "\n",
        "\n",
        "- ア　　8\n",
        "- イ　　16\n",
        "- ウ　　128\n",
        "- エ　　256\n",
        "\n",
        "<details>\n",
        "<summary>\n",
        "<font color= \"#a00\" size=\"+1\"><b>正解</b></font>\n",
        "\n",
        "</summary>\n",
        "\n",
        "**解答**\n",
        "- エ\n",
        "\n",
        "**解説**\n",
        "2進数1ビットでは，0,1の2($ 2^1 $)通りが表現可能です。\n",
        "\n",
        "2進数2ビットでは，00,01,10,11の4($ 2^2 $)通りが表現可能です。\n",
        "\n",
        "一般化すると2進数nビットでは，$ 2^n $通りが表現可能です。\n",
        "\n",
        "従って，32ビットでは$2^{32}$通りの表現が，また24ビットでは$2^{24}$通りの表現ができることから\n",
        "\n",
        "$$ 2^{32} \\div 2^{24} = 2^{32-24} = 2^8 = 256$$\n",
        "\n",
        "256倍となります。\n",
        "\n",
        "</details>\n"
      ],
      "metadata": {
        "id": "cp083YPxmj-E"
      }
    },
    {
      "cell_type": "markdown",
      "source": [
        "## 基数変換\n"
      ],
      "metadata": {
        "id": "Fyx-EeZKxwdI"
      }
    },
    {
      "cell_type": "code",
      "source": [
        "# @title int型10進数を2進数の文字列に変換する { display-mode: \"form\", run: \"auto\" }\n",
        "def conv_dec2bintext(num):\n",
        "    buf = ''\n",
        "    print(f'{num}を2進数に')\n",
        "    while num > 0:\n",
        "        m = num % 2\n",
        "        num = num // 2\n",
        "        buf = f'{m:0}' + buf\n",
        "        print(f'  途中経過：{num}\\t{m} => {buf}')\n",
        "    return buf\n",
        "\n",
        "integer = 61 # @param {type:\"slider\", min:0, max:128, step:1}\n",
        "print(f'\\n10進数\"{integer}\"は10進数で', conv_dec2bintext(integer))"
      ],
      "metadata": {
        "colab": {
          "base_uri": "https://localhost:8080/"
        },
        "id": "WZ9waRKPx3lf",
        "outputId": "5aabb81e-961d-4101-ed39-483ebf4909ae"
      },
      "execution_count": null,
      "outputs": [
        {
          "output_type": "stream",
          "name": "stdout",
          "text": [
            "57を2進数に\n",
            "  途中経過：28\t1 => 1\n",
            "  途中経過：14\t0 => 01\n",
            "  途中経過：7\t0 => 001\n",
            "  途中経過：3\t1 => 1001\n",
            "  途中経過：1\t1 => 11001\n",
            "  途中経過：0\t1 => 111001\n",
            "\n",
            "10進数\"57\"は10進数で 111001\n"
          ]
        }
      ]
    },
    {
      "cell_type": "code",
      "source": [
        "# @title 2進数の文字列をint型10進数に変換する { display-mode: \"form\", run: \"auto\" }\n",
        "def conv_bintext2dec(text):\n",
        "    num = 0\n",
        "    p = 0\n",
        "    print(f'{text}を10進数に')\n",
        "    while p < len(text):\n",
        "        num = num * 2\n",
        "        if text[p] == '1':\n",
        "           num += 1\n",
        "        print(f'  途中経過：{text[:p+1]} => {num}')\n",
        "        p += 1\n",
        "    return num\n",
        "bin_text = '01111100' # @param [\"01110111\", \"01111000\", \"01111001\", \"01111010\", \"01111011\", \"01111100\", \"01111101\", \"01111110\", \"01111111\"]\n",
        "print(f'\\n2進数\"{bin_text}\"は10進数で', conv_bintext2dec(bin_text))"
      ],
      "metadata": {
        "colab": {
          "base_uri": "https://localhost:8080/"
        },
        "outputId": "bf967c08-0e1a-4777-fc6c-79d0b18ed91f",
        "id": "E-uWDLyL32Zc"
      },
      "execution_count": null,
      "outputs": [
        {
          "output_type": "stream",
          "name": "stdout",
          "text": [
            "01111100を10進数に\n",
            "  途中経過：0 => 0\n",
            "  途中経過：01 => 1\n",
            "  途中経過：011 => 3\n",
            "  途中経過：0111 => 7\n",
            "  途中経過：01111 => 15\n",
            "  途中経過：011111 => 31\n",
            "  途中経過：0111110 => 62\n",
            "  途中経過：01111100 => 124\n",
            "\n",
            "2進数\"01111100\"は10進数で 124\n"
          ]
        }
      ]
    },
    {
      "cell_type": "markdown",
      "source": [
        "### **<font color= \"#a00\">確認問題1</font>**\n",
        "**※ITパスポート令和2年秋期 問62**\n",
        "\n",
        "10進数155を2進数で表したものはどれか。\n",
        "\n",
        "- ア　　10011011\n",
        "- イ　　10110011\n",
        "- ウ　　11001101\n",
        "- エ　　11011001\n",
        "\n",
        "<details>\n",
        "<summary>\n",
        "<font color= \"#a00\" size=\"+1\"><b>正解</b></font>\n",
        "\n",
        "</summary>\n",
        "\n",
        "**解答**\n",
        "- ア　　10011011\n",
        "\n",
        "**解説**\n",
        "\n",
        "- $155 \\div 2 = 77 \\cdots 1$\n",
        "- $77 \\div 2 = 38 \\cdots 1$\n",
        "- $38 \\div 2 = 19 \\cdots 0$\n",
        "- $19 \\div 2 = 9 \\cdots 1$\n",
        "- $9 \\div 2 = 4 \\cdots 1$\n",
        "- $4 \\div 2 = 2 \\cdots 0$\n",
        "- $2 \\div 2 = 1 \\cdots 0$\n",
        "- $1 \\div 2 = 0 \\cdots 1$\n",
        "\n",
        "余りを下から順に左から接続することで2進数になります。従って$10011011$になります。\n",
        "\n",
        "</details>\n",
        "\n",
        "\n"
      ],
      "metadata": {
        "id": "gDAoiIgypm3L"
      }
    },
    {
      "cell_type": "code",
      "source": [
        "#@title 確認問題1のpythonでの実装\n",
        "def conv_dec2bintext(num):\n",
        "    buf = ''\n",
        "    print(f'{num}を2進数に')\n",
        "    while num > 0:\n",
        "        m = num % 2\n",
        "        num = num // 2\n",
        "        buf = f'{m:0}' + buf\n",
        "        print(f'  途中経過：{num}\\t{m} => {buf}')\n",
        "    return buf\n",
        "\n",
        "print(f'\\n10進数\"155\"は10進数で', conv_dec2bintext(155))"
      ],
      "metadata": {
        "colab": {
          "base_uri": "https://localhost:8080/"
        },
        "collapsed": true,
        "id": "pWwFfIjAbPTe",
        "outputId": "4ef6de1a-7693-4a69-9502-3a51daeef208"
      },
      "execution_count": null,
      "outputs": [
        {
          "output_type": "stream",
          "name": "stdout",
          "text": [
            "155を2進数に\n",
            "  途中経過：77\t1 => 1\n",
            "  途中経過：38\t1 => 11\n",
            "  途中経過：19\t0 => 011\n",
            "  途中経過：9\t1 => 1011\n",
            "  途中経過：4\t1 => 11011\n",
            "  途中経過：2\t0 => 011011\n",
            "  途中経過：1\t0 => 0011011\n",
            "  途中経過：0\t1 => 10011011\n",
            "\n",
            "10進数\"155\"は10進数で 10011011\n"
          ]
        }
      ]
    },
    {
      "cell_type": "markdown",
      "source": [
        "### **<font color= \"#a00\">確認問題2</font>**\n",
        "**※ITパスポート平成24年秋期 問79**\n",
        "\n",
        "16進数A3は10進数でいくらか。\n",
        "\n",
        "- ア　　103\n",
        "- イ　　153\n",
        "- ウ　　163\n",
        "- エ　　179\n",
        "\n",
        "<details>\n",
        "<summary>\n",
        "<font color= \"#a00\" size=\"+1\"><b>正解</b></font>\n",
        "\n",
        "</summary>\n",
        "\n",
        "**解答**\n",
        "- ウ　　163\n",
        "\n",
        "**解説**\n",
        "\n",
        "\n",
        "</details>\n",
        "\n",
        "\n"
      ],
      "metadata": {
        "id": "8VdeWvDBblI7"
      }
    },
    {
      "cell_type": "code",
      "source": [
        "#@title 確認問題2のpythonでの実装\n",
        "def conv_dec2bintext(num):\n",
        "    buf = ''\n",
        "    print(f'{num}を2進数に')\n",
        "    while num > 0:\n",
        "        m = num % 2\n",
        "        num = num // 2\n",
        "        buf = f'{m:0}' + buf\n",
        "        print(f'  途中経過：{num}\\t{m} => {buf}')\n",
        "    return buf\n",
        "\n",
        "print(f'\\n10進数\"155\"は10進数で', conv_dec2bintext(155))"
      ],
      "metadata": {
        "colab": {
          "base_uri": "https://localhost:8080/"
        },
        "collapsed": true,
        "outputId": "4ef6de1a-7693-4a69-9502-3a51daeef208",
        "id": "KaLlGaSLb8XD"
      },
      "execution_count": null,
      "outputs": [
        {
          "output_type": "stream",
          "name": "stdout",
          "text": [
            "155を2進数に\n",
            "  途中経過：77\t1 => 1\n",
            "  途中経過：38\t1 => 11\n",
            "  途中経過：19\t0 => 011\n",
            "  途中経過：9\t1 => 1011\n",
            "  途中経過：4\t1 => 11011\n",
            "  途中経過：2\t0 => 011011\n",
            "  途中経過：1\t0 => 0011011\n",
            "  途中経過：0\t1 => 10011011\n",
            "\n",
            "10進数\"155\"は10進数で 10011011\n"
          ]
        }
      ]
    }
  ]
}