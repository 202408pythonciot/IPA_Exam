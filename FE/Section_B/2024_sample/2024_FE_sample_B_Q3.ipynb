{
  "nbformat": 4,
  "nbformat_minor": 0,
  "metadata": {
    "colab": {
      "provenance": []
    },
    "kernelspec": {
      "name": "python3",
      "display_name": "Python 3"
    },
    "language_info": {
      "name": "python"
    }
  },
  "cells": [
    {
      "cell_type": "markdown",
      "source": [
        "# グラフのノードの隣接行列\n",
        "※令和6年 サンプル問題 問3\n",
        "\n",
        "\n",
        "---\n",
        "[Google Colaboratoryで開く](https://colab.research.google.com/github/202408pythonciot/IPA_Exam/blob/main/FE/Section_B/2024_sample/2024_FE_sample_B_Q3.ipynb)\n",
        "\n",
        "<a target=\"_blank\" href=\"https://colab.research.google.com/github/202408pythonciot/IPA_Exam/blob/main/FE/Section_B/2024_sample/2024_FE_sample_B_Q3.ipynb\">\n",
        "  <img src=\"https://colab.research.google.com/assets/colab-badge.svg\" alt=\"Open In Colab\"/>\n",
        "</a>\n",
        "\n",
        "---\n",
        "\n",
        "> 次のプログラム中の［　　］に入れる正しい答えを，解答群の中から選べ。ここで，配列の要素番号は 1 から始まる。\n",
        ">\n",
        "> 図 1 に示すグラフの頂点には，1 から順に整数で番号が付けられている。グラフは無向グラフであり，各頂点間には高々一つの辺がある。一つの辺は両端の頂点の番号を要素にもつ要素数 2 の整数型の配列で表現できる。例えば，{1，3} は頂点 1 と頂点 3 を端点とする辺を表す。グラフ全体は，グラフに含まれる辺を表す要素数 2 の配列を全て格納した配列（以下，辺の配列という）で表現できる。辺の配列の要素数はグラフの辺の個数と等しい。図 1 のグラフは整数型配列の配列{{1, 3}, {1, 4}, {3,4}, {2, 4}, {4, 5}}と表現できる。\n",
        "\n",
        "<table style='width:100%;'>\n",
        "<tr><td>\n",
        "\n",
        "![任意の画像名を付ける](https://raw.githubusercontent.com/202408pythonciot/IPA_Exam/refs/heads/main/FE/Section_B/images/R6_sample_Q3_fig1.svg)\n",
        "\n",
        "</td></tr>\n",
        "<tr><th>________________________________図1. グラフの例________________________________</th></tr>\n",
        "</table>\n",
        "\n",
        "\n",
        "> 関数 edgesToMatrix は，辺の配列を隣接行列に変換する。隣接行列とは，グラフに含まれる頂点の個数と等しい行数及び列数の正方行列で，i 行 j 列の成分は頂点 i と頂点 j を結ぶ辺があるときに 1 となり，それ以外は 0 となる。行列の対角成分は全て0 で，無向グラフの場合は対称行列になる。図 1 のグラフを表現する隣接行列を図 2 に示す。\n",
        "\n",
        "<table style='width:100%;'>\n",
        "<tr><td>\n",
        "$$\n",
        "\\begin{bmatrix}\n",
        "0 & 0 & 1 & 1 & 0\\\\\n",
        "0 & 0 & 0 & 1 & 0\\\\\n",
        "1 & 0 & 0 & 1 & 0\\\\\n",
        "1 & 1 & 1 & 0 & 1\\\\\n",
        "0 & 0 & 0 & 1 & 0\\\\\n",
        "\\end{bmatrix}\n",
        "$$\n",
        "</td></tr>\n",
        "<tr><th>________________________________図2. 図1 のグラフを表現する隣接行列________________________________</th></tr>\n",
        "</table>\n",
        "\n",
        "```\n",
        "01 ○整数型の二次元配列: edgesToMatrix(整数型配列の配列: edgeList,\n",
        "02   整数型: nodeNum)\n",
        "03   整数型の二次元配列: adjMatrix ← {nodeNum行nodeNum列の 0}\n",
        "04   整数型: i, u, v\n",
        "05   for (i を 1 から edgeListの要素数 まで 1 ずつ増やす)\n",
        "06     u ← edgeList[i][1]\n",
        "07     v ← edgeList[i][2]\n",
        "08     ［　　］\n",
        "09   endfor\n",
        "10   return adjMatrix\n",
        "```\n",
        "\n",
        "**選択肢**\n",
        "- ア　　adjMatrix[u, u] ← 1\n",
        "- イ　　adjMatrix[u, u] ← 1  \n",
        "  　　　adjMatrix[v, v] ← 1\n",
        "- ウ　　adjMatrix[u, v] ← 1\n",
        "- エ　　adjMatrix[u, v] ← 1  \n",
        "  　　　adjMatrix[v, u] ← 1\n",
        "- オ　　adjMatrix[v, u] ← 1\n",
        "- カ　　adjMatrix[v, v] ← 1"
      ],
      "metadata": {
        "id": "u5CxaY9PuwWL"
      }
    },
    {
      "cell_type": "markdown",
      "source": [
        "<details>\n",
        "<summary>\n",
        "<font color= \"#a00\" size=\"+1\"><b>正解</b></font>\n",
        "\n",
        "\n",
        "</summary>\n",
        "\n",
        "\n",
        "**正解**\n",
        "- エ　　adjMatrix[u, v] ← 1  \n",
        "  　　　adjMatrix[v, u] ← 1\n",
        "\n",
        "**解説**  \n",
        "\n",
        "隣接行列は，グラフの接続関係を示す行列です。出題されているグラフは両方向の接続を\"1\"とし，未接続を\"0\"で表すものです。両方向接続の隣接行列は行と列を入れ替えても同じ値になる性質があります。従って，[u, v]と[v, u]に同じ値が入ります。\n",
        "\n",
        "</details>\n"
      ],
      "metadata": {
        "id": "6ljY5OTSsAKd"
      }
    },
    {
      "cell_type": "markdown",
      "source": [
        "### Pythonでの実装例"
      ],
      "metadata": {
        "id": "ZhGXrWNvsgoG"
      }
    },
    {
      "cell_type": "code",
      "execution_count": null,
      "metadata": {
        "id": "vhqllN6cugl8",
        "colab": {
          "base_uri": "https://localhost:8080/"
        },
        "outputId": "161b3df7-78f3-4386-b854-362306911228"
      },
      "outputs": [
        {
          "output_type": "stream",
          "name": "stdout",
          "text": [
            "[0, 0, 1, 1, 0]\n",
            "[0, 0, 0, 1, 0]\n",
            "[1, 0, 0, 1, 0]\n",
            "[1, 1, 1, 0, 1]\n",
            "[0, 0, 0, 1, 0]\n"
          ]
        }
      ],
      "source": [
        "def edgesToMatrix(edgeList, nodeNum):\n",
        "    ## 内包表記によるnodeNum * nodeNum の要素をもつ二次元配列の生成\n",
        "    adjMatrix = [[0] * nodeNum for _ in range(nodeNum)]\n",
        "    for i in range(nodeNum):\n",
        "        u, v = edgeList[i]\n",
        "        adjMatrix[u-1][v-1] = 1\n",
        "        adjMatrix[v-1][u-1] = 1\n",
        "    return adjMatrix\n",
        "\n",
        "edgeList = [[1, 3], [1, 4], [3, 4], [2, 4], [4, 5]]\n",
        "M = edgesToMatrix(edgeList, len(edgeList))\n",
        "for row in M:\n",
        "    print(row)\n"
      ]
    }
  ]
}