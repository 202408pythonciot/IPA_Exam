{
  "nbformat": 4,
  "nbformat_minor": 0,
  "metadata": {
    "colab": {
      "provenance": []
    },
    "kernelspec": {
      "name": "python3",
      "display_name": "Python 3"
    },
    "language_info": {
      "name": "python"
    }
  },
  "cells": [
    {
      "cell_type": "markdown",
      "source": [
        "# 2進数10進数変換\n",
        "※令和6年 サンプル問題 問2\n",
        "\n",
        "---\n",
        "[Google Colaboratoryで開く](https://colab.research.google.com/github/202408pythonciot/IPA_Exam/blob/main/FE/Section_B/2024_sample/2024_FE_sample_B_Q2.ipynb)\n",
        "\n",
        "<a target=\"_blank\" href=\"https://colab.research.google.com/github/202408pythonciot/IPA_Exam/blob/main/FE/Section_B/2024_sample/2024_FE_sample_B_Q2.ipynb\">\n",
        "  <img src=\"https://colab.research.google.com/assets/colab-badge.svg\" alt=\"Open In Colab\"/>\n",
        "</a>\n",
        "\n",
        "---\n",
        "\n",
        "\n",
        "## **<font color= \"#a00\">問題</font>**\n",
        "> 次のプログラム中の［　　］に入れる正しい答えを，解答群の中から選べ。\n",
        ">\n",
        "> 関数 convDecimal は，引数として与えられた，“0”と“1”だけから成る，1 文字以上の文字列を，符号なしの 2 進数と解釈したときの整数値を返す。例えば，引数として“10010”を与えると 18 が返る。  \n",
        "> 関数 convDecimal が利用する関数 int は，引数で与えられた文字が“0”なら整数値 0 を返し，“1”なら整数値 1 を返す。\n",
        "\n",
        "\n",
        "```\n",
        "01 ◯整数型: convDecimal(文字列型: binary)\n",
        "02   整数型: i, length, result ← 0\n",
        "03   length ← binaryの文字数\n",
        "04   for (i を 1 から length まで 1 ずつ増やす)\n",
        "05     result ← ［　　］\n",
        "06   endfor\n",
        "07   return result\n",
        "```\n",
        "\n",
        "**選択肢**\n",
        "- ア　　result ＋ int(binary の (length － i ＋ 1)文字目の文字)\n",
        "- イ　　result ＋ int(binary の i文字目の文字)\n",
        "- ウ　　result × 2 ＋ int(binary の (length － i ＋ 1)文字目の文字)\n",
        "- エ　　result × 2 ＋ int(binary の i文字目の文字)\n"
      ],
      "metadata": {
        "id": "5_HYdCFqqVPB"
      }
    },
    {
      "cell_type": "markdown",
      "source": [
        "<details>\n",
        "<summary>\n",
        "<font color= \"#a00\" size=\"+1\"><b>正解</b></font>\n",
        "\n",
        "\n",
        "</summary>\n",
        "\n",
        "\n",
        "**正解**\n",
        "- エ　　result × 2 ＋ int(binary の i文字目の文字)\n",
        "\n",
        "**解説**\n",
        "\n",
        "Horner法による2進数⇒10進数変換法の実装です。2進数の左端の位から，その数を足して2倍を繰り返して10進数に変換します。例えば```110011``を10進数にHorner法で変換してみます。\n",
        "\n",
        "|  |  |  |\n",
        "| --- | --- | --- |\n",
        "| 1 | 0 + 1 | 1 |\n",
        "| 11 | 1 * 2 + 1 | 3 |\n",
        "| 110 | 3 * 2 + 0 | 6 |\n",
        "| 1100 | 6 * 2 + 0 | 12 |\n",
        "| 11001 | 12 * 2 + 1 | 25 |\n",
        "| 110011 | 25 * 2 + 1 | 51 |\n",
        "\n",
        "</details>\n",
        "\n",
        "\n"
      ],
      "metadata": {
        "id": "6ljY5OTSsAKd"
      }
    },
    {
      "cell_type": "markdown",
      "source": [
        "### Pythonでの実装例"
      ],
      "metadata": {
        "id": "ZhGXrWNvsgoG"
      }
    },
    {
      "cell_type": "code",
      "source": [
        "def convDecimal(binary):\n",
        "    # pythonでは i = 0 不要\n",
        "    result = 0\n",
        "    length = len(binary)\n",
        "    for i in range(1, length + 1):\n",
        "        result = result * 2 + int(binary[i - 1])\n",
        "    return result\n",
        "\n",
        "print(convDecimal(\"110011\")) # 10進数で51"
      ],
      "metadata": {
        "colab": {
          "base_uri": "https://localhost:8080/"
        },
        "id": "gREFA4SWsXcd",
        "outputId": "3433c16b-ec21-445c-c1af-0658af52c9de"
      },
      "execution_count": null,
      "outputs": [
        {
          "output_type": "stream",
          "name": "stdout",
          "text": [
            "51\n"
          ]
        }
      ]
    }
  ]
}