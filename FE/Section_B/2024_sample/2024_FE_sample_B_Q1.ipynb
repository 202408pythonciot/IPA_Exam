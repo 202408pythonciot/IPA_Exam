{
  "nbformat": 4,
  "nbformat_minor": 0,
  "metadata": {
    "colab": {
      "provenance": []
    },
    "kernelspec": {
      "name": "python3",
      "display_name": "Python 3"
    },
    "language_info": {
      "name": "python"
    }
  },
  "cells": [
    {
      "cell_type": "markdown",
      "source": [
        "# 整数の最大値\n",
        "※令和6年 サンプル問題 問1\n",
        "\n",
        "---\n",
        "[Google Colaboratoryで開く](https://colab.research.google.com/github/202408pythonciot/IPA_Exam/blob/main/FE/Section_B/2024_sample/2024_FE_sample_B_Q1.ipynb)\n",
        "\n",
        "<a target=\"_blank\" href=\"https://colab.research.google.com/github/202408pythonciot/IPA_Exam/blob/main/FE/Section_B/2024_sample/2024_FE_sample_B_Q1.ipynb\">\n",
        "  <img src=\"https://colab.research.google.com/assets/colab-badge.svg\" alt=\"Open In Colab\"/>\n",
        "</a>\n",
        "\n",
        "---\n",
        "\n",
        "## **<font color= \"#a00\">問題</font>**\n",
        "> ［　　］に入る正しい答えはどれか。\n",
        ">\n",
        "> 関数 `maximum` は，異なる三つの整数を引数で受け取り，そのうちの最大値を返す。\n",
        "\n",
        "```\n",
        "01 ◯整数型: maximum(整数型: x, 整数型: y, 整数型: z)\n",
        "02  if (［　　］)\n",
        "03    return x\n",
        "04  elseif ( y > z)\n",
        "05    return y\n",
        "06  else:\n",
        "07    return z\n",
        "08  endif\n",
        "```\n",
        "\n",
        "**選択肢**\n",
        "- ア　　x > y\n",
        "- イ　　x > y and x > z\n",
        "- ウ　　x > y and y > z\n",
        "- エ　　x > z\n",
        "- オ　　x > z and z > y\n",
        "- カ　　z > y\n"
      ],
      "metadata": {
        "id": "ZxxWEUlyqYmh"
      }
    },
    {
      "cell_type": "markdown",
      "source": [
        "<details>\n",
        "<summary>\n",
        "<font color= \"#a00\" size=\"+1\"><b>正解</b></font>\n",
        "\n",
        "\n",
        "</summary>\n",
        "\n",
        "**正解**\n",
        "- イ　　x > y and x > z\n",
        "\n",
        "**解説**\n",
        "関数```maimum```は，引数```x```，```y```，```z```のうち最大の整数を返す関数です。［　　］のある分岐文は真のときに```x```を関数の戻り値として関数が終了します。従って，［　　］に入る条件文は```x```が```y```と```z```より大きい値が入っているときに真となるものです。\n",
        "\n",
        "</details>\n",
        "\n"
      ],
      "metadata": {
        "id": "sloZlYOAvzx8"
      }
    },
    {
      "cell_type": "markdown",
      "source": [
        "### Pythonでの実装例\n"
      ],
      "metadata": {
        "id": "nNkCcpYXJrTB"
      }
    },
    {
      "cell_type": "code",
      "source": [
        "def maximum(x, y, z):\n",
        "  if x > y and x > z:\n",
        "    return x\n",
        "  elif y > z:\n",
        "    return y\n",
        "  else:\n",
        "    return z\n",
        "\n",
        "maximum(15, 35, 12)  # 35を出力"
      ],
      "metadata": {
        "colab": {
          "base_uri": "https://localhost:8080/"
        },
        "outputId": "2d58b22a-72f0-4254-bafd-7328e96f7e98",
        "id": "rXDdzOIBKBe6"
      },
      "execution_count": null,
      "outputs": [
        {
          "output_type": "execute_result",
          "data": {
            "text/plain": [
              "35"
            ]
          },
          "metadata": {},
          "execution_count": 1
        }
      ]
    }
  ]
}