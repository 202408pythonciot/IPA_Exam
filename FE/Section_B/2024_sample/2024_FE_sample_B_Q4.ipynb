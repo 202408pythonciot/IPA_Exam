{
  "nbformat": 4,
  "nbformat_minor": 0,
  "metadata": {
    "colab": {
      "provenance": []
    },
    "kernelspec": {
      "name": "python3",
      "display_name": "Python 3"
    },
    "language_info": {
      "name": "python"
    }
  },
  "cells": [
    {
      "cell_type": "markdown",
      "source": [
        "# 配列のマージ\n",
        "※令和6年 サンプル問題 問4\n",
        "\n",
        "---\n",
        "[Google Colaboratoryで開く](https://colab.research.google.com/github/202408pythonciot/IPA_Exam/blob/main/FE/Section_B/2024_sample/2024_FE_sample_B_Q4.ipynb)\n",
        "\n",
        "<a target=\"_blank\" href=\"https://colab.research.google.com/github/202408pythonciot/IPA_Exam/blob/main/FE/Section_B/2024_sample/2024_FE_sample_B_Q4.ipynb\">\n",
        "  <img src=\"https://colab.research.google.com/assets/colab-badge.svg\" alt=\"Open In Colab\"/>\n",
        "</a>\n",
        "\n",
        "---\n",
        "\n",
        "> 次の記述中の［　　］に入れる正しい答えを，解答群の中から選べ。ここで，\n",
        "配列の要素番号は 1 から始まる。\n",
        ">\n",
        "> 関数 merge は，昇順に整列された整数型の配列 data1 及び data2 を受け取り，これ\n",
        "らを併合してできる昇順に整列された整数型の配列を返す。\n",
        ">\n",
        "> 関数 merge を merge({2, 3}, {1, 4}) として呼び出すと，/\\*\\** α ***/ の行は［　　］。\n",
        "\n",
        "```\n",
        "01 ◯整数型の配列: merge(整数型の配列: data1, 整数型の配列: data2)\n",
        "02   整数型: n1 ← data1の要素数\n",
        "03   整数型: n2 ← data2の要素数\n",
        "04   整数型の配列: work ← {(n1 ＋ n2)個の 未定義の値}\n",
        "05   整数型: i ← 1\n",
        "06   整数型: j ← 1\n",
        "07   整数型: k ← 1\n",
        "08\n",
        "09   while ((i ≦ n1) and (j ≦ n2))\n",
        "10     if (data1[i] ≦ data2[j])\n",
        "11       work[k] ← data1[i]\n",
        "12       i ← i ＋ 1\n",
        "13     else\n",
        "14       work[k] ← data2[j]\n",
        "15       j ← j ＋ 1\n",
        "16     endif\n",
        "17     k ← k ＋ 1\n",
        "18   endwhile\n",
        "19\n",
        "20   while (i ≦ n1)\n",
        "21     work[k] ← data1[i]\n",
        "22     i ← i ＋ 1\n",
        "23     k ← k ＋ 1\n",
        "24   endwhile\n",
        "25\n",
        "26   while (j ≦ n2)\n",
        "27     work[k] ← data2[j] /*** α ***/\n",
        "28     j ← j ＋ 1\n",
        "29     k ← k ＋ 1\n",
        "30   endwhile\n",
        "31\n",
        "32   return work\n",
        "```\n",
        "\n",
        "**選択肢**\n",
        "- ア　　実行されない\n",
        "- イ　　1 回実行される\n",
        "- ウ　　2 回実行される\n",
        "- エ　　3 回実行される\n"
      ],
      "metadata": {
        "id": "WTP0m3irYssL"
      }
    },
    {
      "cell_type": "markdown",
      "source": [
        "<details>\n",
        "<summary>\n",
        "<font color= \"#a00\" size=\"+1\"><b>正解</b></font>\n",
        "\n",
        "\n",
        "</summary>\n",
        "\n",
        "**正解**\n",
        "- イ　　1 回実行される\n",
        "\n",
        "**解説**\n",
        "\n",
        "関数 mergeにdata1 = {2,3} data2 = {1, 4}が与えられたときのトレース表を書きます。\n",
        "\n",
        "| 行 | 命令文 | 説明 | iの値 | jの値 | kの値 | workの保持値 |\n",
        "| --- | --- | --- | --- | --- | --- | --- |\n",
        "| 09 | while ((i ≦ n1) and (j ≦ n2)) | ループに入る | 1 | 1 | 1 | {null, null, null, null} |\n",
        "| 10 | if (data1[i] ≦ data2[j]) | data1[1] と data2[1] を比較，2 <= 1 となるためelse文にジャンプ | 1 | 1 | 1 | {null, null, null, null} |\n",
        "| 14 | work[k] ← data2[j] | work[1] に data2[1] の値を代入 | 1 | 1 | 1 | {1, null, null, null} |\n",
        "| 15 | j ← j ＋ 1 | jの値を1増やす | 1 | 2 | 1 | {1, null, null, null} |\n",
        "| 17 | k ← k ＋ 1 | kの値を1増やす | 1 | 2 | 2 | {1, null, null, null} |\n",
        "| 09 | while ((i ≦ n1) and (j ≦ n2)) | 条件文は真のためループを継続 | 1 | 2 | 2 | {1, null, null, null} |\n",
        "| 10 | if (data1[i] ≦ data2[j]) | data1[1] と data2[2] を比較，2 <= 4 となるため真となる | 1 | 2 | 2 | {1, null, null, null} |\n",
        "| 11 | work[k] ← data1[i] | work[2] に data1[1] の値を代入 | 1 | 2 | 2 | {1, 2, null, null} |\n",
        "| 12 | i ← i ＋ 1 | iの値を1増やす | 2 | 2 | 2 | {1, 2, null, null} |\n",
        "| 17 | k ← k ＋ 1 | kの値を1増やす | 2 | 2 | 3 | {1, 2, null, null} |\n",
        "| 09 | while ((i ≦ n1) and (j ≦ n2)) | 条件文は真のためループを継続 | 2 | 2 | 3 | {1, 2, null, null} |\n",
        "| 10 | if (data1[i] ≦ data2[j]) | data1[2] と data2[2] を比較，3 <= 4 となるため真となる  | 2 | 2 | 3 | {1, 2, null, null} |\n",
        "| 11 | work[k] ← data1[i] | work[3] に data1[2] の値を代入 | 2 | 2 | 3 | {1, 2, 3, null} |\n",
        "| 12 | i ← i ＋ 1 | iの値を1増やす | 3 | 2 | 3 | {1, 2, 3, null} |\n",
        "| 17 | k ← k ＋ 1 | kの値を1増やす | 3 | 2 | 4 | {1, 2, 3, null} |\n",
        "| 09 | while ((i ≦ n1) and (j ≦ n2)) | 条件文は偽のためループを抜ける | 3 | 2 | 4 | {1, 2, 3, null} |\n",
        "| 20 | while while (i ≦ n1) | 条件文は偽のためループには入らない | 3 | 2 | 4 | {1, 2, 3, null} |\n",
        "| 26 | while while (j ≦ n2) | 条件文は真のためループに入る | 3 | 2 | 4 | {1, 2, 3, null} |\n",
        "| 27 | work[k] ← data2[j] | work[4] に data2[2] の値を代入，α行が実行 | 3 | 2 | 4 | {1, 2, 3, 4} |\n",
        "| 28 | j ← j ＋ 1 | jの値を1増やす | 3 | 3 | 4 | {1, 2, 3, 4} |\n",
        "| 29 | k ← k ＋ 1 | kの値を1増やす | 3 | 3 | 3 | {1, 2, 3, 4} |\n",
        "| 26 | while while (j ≦ n2) | 条件文は偽のためループには入らない | 3 | 2 | 4 | {1, 2, 3, 4} |\n",
        "| 32 | return work | workの配列を戻り値として返し，関数mergeから抜ける | 3 | 2 | 4 | {1, 2, 3, 4} |\n",
        "\n",
        "αの行は1回だけ実行されることが確認できます。\n",
        "\n",
        "</details>\n",
        "\n",
        "\n",
        "\n"
      ],
      "metadata": {
        "id": "9lVYehNscfQB"
      }
    },
    {
      "cell_type": "markdown",
      "source": [
        "### Pythonでの実装例"
      ],
      "metadata": {
        "id": "ZhGXrWNvsgoG"
      }
    },
    {
      "cell_type": "code",
      "execution_count": null,
      "metadata": {
        "colab": {
          "base_uri": "https://localhost:8080/"
        },
        "id": "3Ae0BnAOYsPO",
        "outputId": "4f8e3fcb-92f6-4617-f1f3-ba0bcc9d3c06"
      },
      "outputs": [
        {
          "output_type": "stream",
          "name": "stdout",
          "text": [
            "α\n"
          ]
        },
        {
          "output_type": "execute_result",
          "data": {
            "text/plain": [
              "[1, 2, 3, 4]"
            ]
          },
          "metadata": {},
          "execution_count": 2
        }
      ],
      "source": [
        "def merge(data1, data2):\n",
        "  n1 = len(data1)\n",
        "  n2 = len(data2)\n",
        "  work = [None] * (n1 + n2)\n",
        "  i = 1\n",
        "  j = 1\n",
        "  k = 1\n",
        "\n",
        "  while ((i <= n1) and (j <= n2)):\n",
        "    if (data1[i - 1] <= data2[j - 1]):\n",
        "      work[k - 1] = data1[i - 1]\n",
        "      i += 1\n",
        "    else:\n",
        "      work[k - 1] = data2[j - 1]\n",
        "      j += 1\n",
        "    k += 1\n",
        "\n",
        "  while (i <= n1):\n",
        "    work[k - 1] = data1[i - 1]\n",
        "    i += 1\n",
        "    k += 1\n",
        "\n",
        "  while (j <= n2):\n",
        "    work[k - 1] = data2[j - 1]  # ** α **\n",
        "    print('α')\n",
        "    j += 1\n",
        "    k += 1\n",
        "\n",
        "  return work\n",
        "\n",
        "merge([2, 3], [1, 4])"
      ]
    }
  ]
}