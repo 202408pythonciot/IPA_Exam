{
  "nbformat": 4,
  "nbformat_minor": 0,
  "metadata": {
    "colab": {
      "provenance": []
    },
    "kernelspec": {
      "name": "python3",
      "display_name": "Python 3"
    },
    "language_info": {
      "name": "python"
    }
  },
  "cells": [
    {
      "cell_type": "markdown",
      "source": [
        "# コサイン類似度\n",
        "※令和6年 サンプル問題 問5\n",
        "\n",
        "\n",
        "---\n",
        "[Google Colaboratoryで開く](https://colab.research.google.com/github/202408pythonciot/IPA_Exam/blob/main/FE/Section_B/2023_sample/2024_FE_sample_B_Q5.ipynb)\n",
        "\n",
        "<a target=\"_blank\" href=\"https://colab.research.google.com/github/202408pythonciot/IPA_Exam/blob/main/FE/Section_B/2023_sample/2024_FE_sample_B_Q5.ipynb\">\n",
        "  <img src=\"https://colab.research.google.com/assets/colab-badge.svg\" alt=\"Open In Colab\"/>\n",
        "</a>\n",
        "\n",
        "---\n",
        "\n",
        "\n",
        "## **<font color= \"#a00\">問題</font>**\n",
        "> 次のプログラム中の ［　a　］と ［　b　］に入れる正しい答えの組み合わせを，解答群の中から選べ。ここで，配列の要素番号は 1 から始まる。\n",
        ">\n",
        "> コサイン類似度は，二つのベクトルの向きの類似性を測る尺度である。関数```calcCosineSimilarity```は，いずれも要素数が $ n(n \\geqq 1) $である実数型の配列 ```vector1```と ```vector2``` を受け取り，二つの配列のコサイン類似度を返す。配列 ```vector1``` が { $ a_1 $ , $ a_2 $, …, $ a_n $ }，配列 ```vector2``` が {$ b_1$, $b_2$, …, $b_n$ } のとき，コサイン類似度は次の数式で計算される。ここで，配列 ```vector1``` と配列 ```vector2``` のいずれも，全ての要素に $0$ が格納されていることはないものとする。\n",
        "\n",
        "$$\n",
        "\\frac{a_1 b_1 + a_2 b_2 + \\cdots + a_n b_n}{ \\sqrt{a_1^2 + a_1^2 + \\cdots  + a_n^2} \\sqrt{b_1^2 + b_1^2 + \\cdots + b_n^2}}\n",
        "$$\n",
        "\n",
        ">\n",
        "\n",
        "```Python\n",
        "00 ○実数型: calcCosineSimilarity(実数型の配列: vector1, 実数型の配列: vector2)\n",
        "00   実数型: similarity, numerator, denominator, temp ← 0\n",
        "00   整数型: i\n",
        "00   numerator ← 0\n",
        "00   \n",
        "00   for (i を 1 から vector1の要素数 まで 1 ずつ増やす)\n",
        "00     numerator ← numerator ＋  ［　a　］\n",
        "00   endfor\n",
        "00\n",
        "00   for (i を 1 から vector1の要素数 まで 1 ずつ増やす)\n",
        "00     temp ← temp ＋ vector1[i]の2乗\n",
        "00   endfor\n",
        "00   denominator ← tempの正の平方根\n",
        "00\n",
        "00   temp ← 0\n",
        "00   for (i を 1 から vector2の要素数 まで 1 ずつ増やす)\n",
        "00     temp ← temp ＋ vector2[i]の2乗\n",
        "00   endfor\n",
        "00   denominator ← ［　b　］\n",
        "00  \n",
        "00   similarity ← numerator ÷ denominator\n",
        "00   return similarity\n",
        "```\n",
        "\n",
        "\n",
        "**選択肢**\n",
        "\n",
        "|  | a | b |\n",
        "| --- | --- | --- |\n",
        "| ア | (vector1[i] × vector2[i])の正の平方根 | denominator × (tempの正の平方根) |\n",
        "| イ | (vector1[i] × vector2[i])の正の平方根 | denominator ＋ (tempの正の平方根) |\n",
        "| ウ | (vector1[i] × vector2[i])の正の平方根 | tempの正の平方根 |\n",
        "| エ | vector1[i] × vector2[i] | denominator × (tempの正の平方根) |\n",
        "| オ | vector1[i] × vector2[i] | denominator ＋ (tempの正の平方根) |\n",
        "| カ | vector1[i] × vector2[i] | tempの正の平方根 |\n",
        "| キ | vector1[i]の2乗 | denominator × (tempの正の平方根) |\n",
        "| ク | vector1[i]の2乗 | denominator ＋ (tempの正の平方根) |\n",
        "| ケ | vector1[i]の2乗 | tempの正の平方根 |\n",
        "\n",
        "\n"
      ],
      "metadata": {
        "id": "ZDdUwrlfgjhQ"
      }
    },
    {
      "cell_type": "markdown",
      "source": [
        "<details>\n",
        "<summary>\n",
        "<font color= \"#a00\" size=\"+1\"><b>正解</b></font>\n",
        "\n",
        "\n",
        "</summary>\n",
        "\n",
        "\n",
        "**正解**\n",
        "- エ　　a：\tvector1[i] × vector2[i], b：denominator × (tempの正の平方根)\n",
        "\n",
        "**解説**\n",
        "\n",
        "</details>\n"
      ],
      "metadata": {
        "id": "fGVotGQnLTUd"
      }
    },
    {
      "cell_type": "markdown",
      "source": [
        "### Pythonでの実装例"
      ],
      "metadata": {
        "id": "UGVQ0EqZYgPg"
      }
    },
    {
      "cell_type": "code",
      "execution_count": 2,
      "metadata": {
        "id": "9Suk_yNggg9H",
        "colab": {
          "base_uri": "https://localhost:8080/"
        },
        "outputId": "dc84deef-71a7-487f-d093-c0af0555c1f1"
      },
      "outputs": [
        {
          "output_type": "stream",
          "name": "stdout",
          "text": [
            "0.9746318461970762\n"
          ]
        }
      ],
      "source": [
        "def calcCosineSimilarity(vector1, vector2):\n",
        "    similarity = 0\n",
        "    numerator = 0\n",
        "    denominator = 0\n",
        "    temp = 0\n",
        "    for i in range(len(vector1)):\n",
        "        numerator += vector1[i] * vector2[i]\n",
        "    for i in range(len(vector1)):\n",
        "        temp += vector1[i] ** 2\n",
        "    denominator = temp ** 0.5\n",
        "    temp = 0\n",
        "    for i in range(len(vector2)):\n",
        "        temp += vector2[i] ** 2\n",
        "    denominator *= temp ** 0.5\n",
        "    similarity = numerator / denominator\n",
        "    return similarity\n",
        "\n",
        "\n",
        "vector1 = [1, 2, 3]\n",
        "vector2 = [4, 5, 6]\n",
        "similarity = calcCosineSimilarity(vector1, vector2)\n",
        "print(similarity)"
      ]
    }
  ]
}