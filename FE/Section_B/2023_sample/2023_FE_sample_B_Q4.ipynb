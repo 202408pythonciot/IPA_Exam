{
  "nbformat": 4,
  "nbformat_minor": 0,
  "metadata": {
    "colab": {
      "provenance": []
    },
    "kernelspec": {
      "name": "python3",
      "display_name": "Python 3"
    },
    "language_info": {
      "name": "python"
    }
  },
  "cells": [
    {
      "cell_type": "markdown",
      "source": [
        "# ハッシュ\n",
        "※令和5年 サンプル問題 問4\n",
        "\n",
        "\n",
        "---\n",
        "[Google Colaboratoryで開く](https://colab.research.google.com/github/202408pythonciot/IPA_Exam/blob/main/FE/Section_B/2023_sample/2023_FE_sample_B_Q4.ipynb)\n",
        "\n",
        "<a target=\"_blank\" href=\"https://colab.research.google.com/github/202408pythonciot/IPA_Exam/blob/main/FE/Section_B/2023_sample/2023_FE_sample_B_Q4.ipynb\">\n",
        "  <img src=\"https://colab.research.google.com/assets/colab-badge.svg\" alt=\"Open In Colab\"/>\n",
        "</a>\n",
        "\n",
        "---\n",
        "\n",
        "\n",
        "## **<font color= \"#a00\">問題</font>**\n",
        "> 次の記述中の ［　　　］に入れる正しい答えを，解答群の中から選べ。ここで，配列の要素番号は 1 から始まる。\n",
        ">\n",
        "> 関数 add は，引数で指定された正の整数 value を大域の整数型の配列 hashArray に格納する。格納できた場合は true を返し，格納できなかった場合は false を返す。ここで，整数 value を hashArray のどの要素に格納すべきかを，関数 calcHash1 及びcalcHash2 を利用して決める。\n",
        ">\n",
        "> 手続 test は，関数 add を呼び出して，hashArray に正の整数を格納する。手続\n",
        "test の処理が終了した直後の hashArray の内容は， ［　　　］となる。\n",
        "\n",
        "\n",
        "```\n",
        "00 大域: 整数型の配列: hashArray\n",
        "00\n",
        "00 ○論理型: add(整数型: value)\n",
        "00   整数型: i ← calcHash1(value)\n",
        "00   if (hashArray[i] ＝ －1)\n",
        "00     hashArray[i] ← value\n",
        "00     return true\n",
        "00   else\n",
        "00     i ← calcHash2(value)\n",
        "00     if (hashArray[i] ＝ －1)\n",
        "00       hashArray[i] ← value\n",
        "00       return true\n",
        "00     endif\n",
        "00   endif\n",
        "00   return false\n",
        "00\n",
        "00 ○整数型: calcHash1(整数型: value)\n",
        "00   return (value mod hashArrayの要素数) ＋ 1\n",
        "00\n",
        "00 ○整数型: calcHash2(整数型: value)\n",
        "00   return ((value ＋ 3) mod hashArrayの要素数) ＋ 1\n",
        "00\n",
        "00 ○test()\n",
        "00   hashArray ← {5個の －1}\n",
        "00   add(3)\n",
        "00   add(18)\n",
        "00   add(11)\n",
        "\n",
        "```\n",
        "\n",
        "**選択肢**\n",
        "- ア　　{－1, 3, －1, 18, 11}\n",
        "- イ　　{－1, 11, －1, 3, －1}\n",
        "- ウ　　{－1, 11, －1, 18, －1}\n",
        "- エ　　{－1, 18, －1, 3, 11}\n",
        "- オ　　{－1, 18, 11, 3, －1}\n"
      ],
      "metadata": {
        "id": "NZGsSLPMy26P"
      }
    },
    {
      "cell_type": "markdown",
      "source": [
        "<details>\n",
        "<summary>\n",
        "<font color= \"#a00\" size=\"+1\"><b>正解</b></font>\n",
        "\n",
        "\n",
        "</summary>\n",
        "\n",
        "\n",
        "**正解**\n",
        "- エ　　{－1, 18, －1, 3, 11}\n",
        "\n",
        "**解説**\n",
        "\n",
        "トレース表を書いてみます\n",
        "\n",
        "\n",
        "\n",
        "| 実行行 | 実行関数 | 実行内容  | hashArrayの値 |\n",
        "| --- | --- | --- | --- |\n",
        "|  | test() | testを呼び出す | 不定 |\n",
        "|  | test() | hashArray ← {5個の －1} | {-1, -1, -1, -1, -1} |\n",
        "\n",
        "add(3)\n",
        "\n",
        "| 実行行 | 実行関数 | 実行内容  | hashArrayの値 |\n",
        "| --- | --- | --- | --- |\n",
        "|  | test() | add(3)を実行 | {-1, -1, -1, -1, -1} |\n",
        "|  | add(3) | calcHash1(3)を実行 | {-1, -1, -1, -1, -1} |\n",
        "|  | calcHash1(3) |  (3 mod hashArrayの要素数：5) + 1を計算，結果4 | {-1, -1, -1, -1, -1} |\n",
        "|  | calcHash1(3) | 4を戻す | {-1, -1, -1, -1, -1} |\n",
        "|  | add(3) | 4をiに代入 | {-1, -1, -1, -1, -1} |\n",
        "|  | add(3) | hashArray[4] = -1は真で，真の条件文を実行 | {-1, -1, -1, -1, -1} |\n",
        "|  | add(3) | hashArray[4]に 3 を代入 | {-1, -1, -1, 3, -1} |\n",
        "|  | add(3) | 関数addを終了し，戻り値としてtrueを返す | {-1, -1, -1, 3, -1} |\n",
        "\n",
        "add(18)\n",
        "\n",
        "| 実行行 | 実行関数 | 実行内容  | hashArrayの値 |\n",
        "| --- | --- | --- | --- |\n",
        "|  | test() | add(18)を実行 | {-1, -1, -1, 3, -1} |\n",
        "|  | add(18) | calcHash1(18)を実行 | {-1, -1, -1, 3, -1} |\n",
        "|  | calcHash1(18) | (18 mod hashArrayの要素数：5) + 1を計算，結果4 | {-1, -1, -1, 3, -1} |\n",
        "|  | calcHash1(18) | 4を戻す | {-1, -1, -1, 3, -1} |\n",
        "|  | add(18) | 4をiに代入 | {-1, -1, -1, 3, -1} |\n",
        "|  | add(18) | hashArray[4] = -1は偽で，偽の条件文を実行 | {-1, -1, -1, 3, -1} |\n",
        "|  | calcHash2(18) | ((18 + 3) mod hashArrayの要素数：5) + 1を計算，結果2 | {-1, -1, -1, 3, -1} |\n",
        "|  | calcHash2(18) | 2を戻す | {-1, -1, -1, 3, -1} |\n",
        "|  | add(18) | 2をiに代入 | {-1, -1, -1, -1, -1} |\n",
        "|  | add(18) | hashArray[2] = -1は真で，真の条件文を実行 | {-1, -1, -1, -1, -1} |\n",
        "|  | add(18) | hashArray[2]に 18 を代入 | {-1, 18, -1, 3, -1} |\n",
        "|  | add(18) | 関数addを終了し，戻り値としてtrueを返す | {-1, 18, -1, 3, -1} |\n",
        "\n",
        "add(11)\n",
        "\n",
        "| 実行行 | 実行関数 | 実行内容  | hashArrayの値 |\n",
        "| --- | --- | --- | --- |\n",
        "|  | test() | add(11)を実行 | {-1, 18, -1, 3, -1} |\n",
        "|  | add(11) | calcHash1(11)を実行 | {-1, 18, -1, 3, -1} |\n",
        "|  | calcHash1(11) | (11 mod hashArrayの要素数：5) + 1を計算，結果2 | {-1, 18, -1, 3, -1} |\n",
        "|  | calcHash1(11) | 4を戻す | {-1, 18, -1, 3, -1} |\n",
        "|  | add(11) | 2をiに代入 | {-1, 18, -1, 3, -1} |\n",
        "|  | add(11) | hashArray[2] = -1は偽で，偽の条件文を実行 | {-1, 18, -1, 3, -1} |\n",
        "|  | calcHash2(11) | ((11 + 3) mod hashArrayの要素数：5) + 1を計算，結果5 | {-1, 18, -1, 3, -1} |\n",
        "|  | calcHash2(11) | 5を戻す | {-1, -1, -1, 3, -1} |\n",
        "|  | add(11) | 5をiに代入 | {-1, -1, -1, -1, -1} |\n",
        "|  | add(11) | hashArray[5] = -1は真で，真の条件文を実行 | {-1, -1, -1, -1, -1} |\n",
        "|  | add(11) | hashArray[5]に 11 を代入 | {-1, 18, -1, 3, 11} |\n",
        "|  | add(11) | 関数addを終了し，戻り値としてtrueを返す | {-1, 18, -1, 3, 11} |\n",
        "\n",
        "従って，関数testを実行した後の`hashArray`は\"{-1, 18, -1, 3, 11} \"になります。\n",
        "\n",
        "</details>"
      ],
      "metadata": {
        "id": "wcXv6AN9YXRi"
      }
    },
    {
      "cell_type": "markdown",
      "source": [
        "### Pythonでの実装例"
      ],
      "metadata": {
        "id": "UGVQ0EqZYgPg"
      }
    },
    {
      "cell_type": "code",
      "source": [
        "hashArray = []\n",
        "\n",
        "def add(value):\n",
        "  global hashArray\n",
        "  i = calcHash1(value)\n",
        "  if hashArray[i - 1] == -1:\n",
        "    hashArray[i - 1] = value\n",
        "    return True\n",
        "  else:\n",
        "    i = calcHash2(value)\n",
        "    if hashArray[i - 1] == -1:\n",
        "      hashArray[i - 1] = value\n",
        "      return True\n",
        "  return False\n",
        "\n",
        "def calcHash1(value):\n",
        "  return (value % 5) + 1\n",
        "\n",
        "def calcHash2(value):\n",
        "  return ((value + 3) % 5) + 1\n",
        "\n",
        "def test():\n",
        "  global hashArray\n",
        "  hashArray = [-1] * 5\n",
        "  add(3)\n",
        "  add(18)\n",
        "  add(11)\n",
        "\n",
        "test()\n",
        "print(hashArray)"
      ],
      "metadata": {
        "id": "ALTRgWyg0N_s",
        "colab": {
          "base_uri": "https://localhost:8080/"
        },
        "outputId": "35dc0905-fbc9-4a51-df41-0f8cb92782a3"
      },
      "execution_count": null,
      "outputs": [
        {
          "output_type": "stream",
          "name": "stdout",
          "text": [
            "[-1, 18, -1, 3, 11]\n"
          ]
        }
      ]
    }
  ]
}