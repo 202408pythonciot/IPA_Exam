{
  "nbformat": 4,
  "nbformat_minor": 0,
  "metadata": {
    "colab": {
      "provenance": []
    },
    "kernelspec": {
      "name": "python3",
      "display_name": "Python 3"
    },
    "language_info": {
      "name": "python"
    }
  },
  "cells": [
    {
      "cell_type": "markdown",
      "source": [
        "# サブルーチンの呼び出し\n",
        "※令和5年 サンプル問題 問2\n",
        "\n",
        "---\n",
        "[Google Colaboratoryで開く](https://colab.research.google.com/github/202408pythonciot/IPA_Exam/blob/main/FE/Section_B/2023_sample/2023_FE_sample_B_Q2.ipynb)\n",
        "\n",
        "<a target=\"_blank\" href=\"https://colab.research.google.com/github/202408pythonciot/IPA_Exam/blob/main/FE/Section_B/2023_sample/2023_FE_sample_B_Q2.ipynb\">\n",
        "  <img src=\"https://colab.research.google.com/assets/colab-badge.svg\" alt=\"Open In Colab\"/>\n",
        "</a>\n",
        "\n",
        "---\n",
        "\n",
        "## **<font color= \"#a00\">問題</font>**\n",
        "> 次の記述中の ［　　　］に入れる正しい答えを，解答群の中から選べ。\n",
        ">\n",
        "> 次のプログラムにおいて，手続 proc2 を呼び出すと， ［　　　］の順に出力される。\n",
        "\n",
        "\n",
        "```\n",
        "01 ○proc1()\n",
        "02   \"A\"を出力する\n",
        "03   proc3()\n",
        "04\n",
        "05 ○proc2()\n",
        "06   proc3()\n",
        "07   \"B\"を出力する\n",
        "08   proc1()\n",
        "09\n",
        "10 ○proc3()\n",
        "11   \"C\"を出力する\n",
        "\n",
        "```\n",
        "\n",
        "\n",
        "**選択肢**\n",
        "- ア　　\"A\", \"B\", \"B\", \"C\"\n",
        "- イ　　\"A\", \"C\"\n",
        "- ウ　　\"A\", \"C\", \"B\", \"C\"\n",
        "- エ　　\"B\", \"A\", \"B\", \"C\"\n",
        "- カ　　\"C\", \"B\"\n",
        "- キ　　\"C\", \"B\", \"A\"\n",
        "- ク　　\"C\", \"B\", \"A\", \"C\"\n",
        "\n",
        "\n",
        "\n",
        "\n"
      ],
      "metadata": {
        "id": "TOzL4z0BjreI"
      }
    },
    {
      "cell_type": "markdown",
      "source": [
        "<details>\n",
        "<summary>\n",
        "<font color= \"#a00\" size=\"+1\"><b>正解</b></font>\n",
        "\n",
        "\n",
        "</summary>\n",
        "\n",
        "\n",
        "**正解**\n",
        "- ク　　\"C\", \"B\", \"A\", \"C\"\n",
        "\n",
        "**解説**\n",
        "\n",
        "トレース表を書き出してみると，以下のようになります。\n",
        "\n",
        "|  | サブルーチン | 処理内容 |\n",
        "| --- | --- | --- |\n",
        "| 2 | proc2 | proc3を呼び出す |\n",
        "| 2 | proc3 | \"C\"を出力 |\n",
        "| 2 | proc3 | proc3が終了し，proc2 に処理を戻す |\n",
        "| 2 | proc2 | \"B\"を出力 |\n",
        "| 2 | proc2 | proc1を呼び出す |\n",
        "| 2 | proc1 | \"A\"を出力 |\n",
        "| 2 | proc1 | proc3を呼び出す |\n",
        "| 2 | proc3 | \"C\"を出力 |\n",
        "| 2 | proc3 | proc3が終了し，proc1 に処理を戻す |\n",
        "| 2 | proc1 | proc1が終了し，proc2 に処理を戻す |\n",
        "| 2 | proc2 | proc2が終了し，全体の処理が終わる |\n",
        "\n",
        "\n",
        "</details>\n"
      ],
      "metadata": {
        "id": "wcXv6AN9YXRi"
      }
    },
    {
      "cell_type": "markdown",
      "source": [
        "### Pythonでの実装例"
      ],
      "metadata": {
        "id": "UGVQ0EqZYgPg"
      }
    },
    {
      "cell_type": "code",
      "source": [
        "def proc1():\n",
        "  print(\"A\", end=\"\")\n",
        "  proc3()\n",
        "\n",
        "def proc2():\n",
        "  proc3()\n",
        "  print(\"B\", end=\"\")\n",
        "  proc1()\n",
        "\n",
        "def proc3():\n",
        "  print(\"C\", end=\"\")\n",
        "\n",
        "proc2()"
      ],
      "metadata": {
        "colab": {
          "base_uri": "https://localhost:8080/"
        },
        "outputId": "3900faf4-43af-499f-d29e-dc0bdf299f86",
        "id": "22zi_m1hYgPg"
      },
      "execution_count": null,
      "outputs": [
        {
          "output_type": "stream",
          "name": "stdout",
          "text": [
            "CBAC"
          ]
        }
      ]
    }
  ]
}