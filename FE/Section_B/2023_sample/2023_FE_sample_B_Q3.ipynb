{
  "nbformat": 4,
  "nbformat_minor": 0,
  "metadata": {
    "colab": {
      "provenance": [],
      "collapsed_sections": [
        "UGVQ0EqZYgPg"
      ]
    },
    "kernelspec": {
      "name": "python3",
      "display_name": "Python 3"
    },
    "language_info": {
      "name": "python"
    }
  },
  "cells": [
    {
      "cell_type": "markdown",
      "source": [
        "# クイックソート\n",
        "※令和5年 サンプル問題 問3\n",
        "\n",
        "---\n",
        "[Google Colaboratoryで開く](https://colab.research.google.com/github/202408pythonciot/IPA_Exam/blob/main/FE/Section_B/2023_sample/2023_FE_sample_B_Q3.ipynb)\n",
        "\n",
        "<a target=\"_blank\" href=\"https://colab.research.google.com/github/202408pythonciot/IPA_Exam/blob/main/FE/Section_B/2023_sample/2023_FE_sample_B_Q3.ipynb\">\n",
        "  <img src=\"https://colab.research.google.com/assets/colab-badge.svg\" alt=\"Open In Colab\"/>\n",
        "</a>\n",
        "\n",
        "---\n",
        "\n",
        "## **<font color= \"#a00\">問題</font>**\n",
        "> 次の記述中の ［　　　］に入れる正しい答えを，解答群の中から選べ。ここで，配列の要素番号は 1 から始まる。\n",
        ">\n",
        "> 次の手続 sort は，大域の整数型の配列 data の，引数 first で与えられた要素番号から引数 last で与えられた要素番号までの要素を昇順に整列する。ここで，first ＜ last とする。手続 sort を sort(1, 5) として呼び出すと，/\\*\\** α ***/ の行を最初に実行したときの出力は“ ［　　　］となる。\n",
        "\n",
        "\n",
        "```\n",
        "01 大域: 整数型の配列: data ← {2, 1, 3, 5, 4}\n",
        "02\n",
        "03 ○sort(整数型: first, 整数型: last)\n",
        "04   整数型: pivot, i, j\n",
        "05   pivot ← data[(first ＋ last) ÷ 2 の商]\n",
        "06   i ← first\n",
        "07   j ← last\n",
        "08\n",
        "09   while (true)\n",
        "10     while (data[i] ＜ pivot)\n",
        "11       i ← i ＋ 1\n",
        "12     endwhile\n",
        "13     while (pivot ＜ data[j])\n",
        "14       j ← j － 1\n",
        "15     endwhile\n",
        "16     if (i ≧ j)\n",
        "17       繰返し処理を終了する\n",
        "18     endif\n",
        "19     data[i]とdata[j]の値を入れ替える\n",
        "20     i ← i ＋ 1\n",
        "21     j ← j － 1\n",
        "22   endwhile\n",
        "23   dataの全要素の値を要素番号の順に空白区切りで出力する /*** α ***/\n",
        "24   if (first ＜ i － 1)\n",
        "25     sort(first, i － 1)\n",
        "26   endif\n",
        "27   if (j ＋ 1 ＜ last)\n",
        "28     sort(j + 1, last)\n",
        "29   endif\n",
        "```\n",
        "\n",
        "\n",
        "**選択肢**\n",
        "- ア　　1 2 3 4 5\n",
        "- イ　　1 2 3 5 4\n",
        "- ウ　　2 1 3 4 5\n",
        "- エ　　2 1 3 5 4\n",
        "\n",
        "\n",
        "\n",
        "\n"
      ],
      "metadata": {
        "id": "TOzL4z0BjreI"
      }
    },
    {
      "cell_type": "markdown",
      "source": [
        "<details>\n",
        "<summary>\n",
        "<font color= \"#a00\" size=\"+1\"><b>正解</b></font>\n",
        "\n",
        "\n",
        "</summary>\n",
        "\n",
        "\n",
        "**正解**\n",
        "- エ　　2 1 3 5 4\n",
        "\n",
        "**解説**\n",
        "\n",
        "トレース表を書いてみます\n",
        "\n",
        "\n",
        "</details>\n",
        "\n",
        "sort(1, 5)\n",
        "\n",
        "| 実行行 | 実行内容  | 配列dataの値 | pivotの値 | iの値 | jの値 |\n",
        "| --- | --- | --- | --- | --- | --- |\n",
        "| 05 pivot ← data[(first ＋ last) ÷ 2 の商] | data[(1+5)/2]，すなわちdata[3]の値をpivotに代入 | [2, 1, 3, 5, 4] | 3 | 不定 | 不定 |\n",
        "| 06 i ← first | firstの値をiに代入 | [2, 1, 3, 5, 4] | 3 | 1 | 不定 |\n",
        "| 07 j ← last | lastの値をjに代入 | [2, 1, 3, 5, 4] | 3 | 1 | 5 |\n",
        "| 09 while (true) | 無限ループに入る | [2, 1, 3, 5, 4] | 3 | 1 | 5 |\n",
        "| 09 while (data[i] ＜ pivot) | data[i] < pivot，すなわち data[1] < pivot が真なのでループに入る | [2, 1, 3, 5, 4] | 3 | 1 | 5 |\n",
        "| 09 i ← i ＋ 1 | iの値を1加算 | [2, 1, 3, 5, 4] | 3 | 2 | 5 |\n",
        "| 09 while (data[i] ＜ pivot) | data[i] < pivot，すなわち data[2] < pivot が真なのでループに入る | [2, 1, 3, 5, 4] | 3 | 2 | 5 |\n",
        "| 09 i ← i ＋ 1 | iの値を1加算 | [2, 1, 3, 5, 4] | 3 | 3 | 5 |\n",
        "| 09 while (data[i] ＜ pivot) | data[i] < pivot，すなわち data[3] < pivot が偽なのでループを抜ける | [2, 1, 3, 5, 4] | 3 | 3 | 5 |\n",
        "| 09 while (pivot ＜ data[j]) | pivot < data[j]，すなわち pivot < data[5] が真なのでループに入る | [2, 1, 3, 5, 4] | 3 | 3 | 5 |\n",
        "| 09 j ← j － 1 | iの値を1減算 | [2, 1, 3, 5, 4] | 3 | 3 | 4 |\n",
        "| 09 while (pivot ＜ data[j]) | pivot < data[j]，すなわち pivot < data[4] が真なのでループに入る | [2, 1, 3, 5, 4] | 3 | 3 | 4 |\n",
        "| 09 j ← j － 1 | iの値を1減算 | [2, 1, 3, 5, 4] | 3 | 3 | 3 |\n",
        "| 09 while (pivot ＜ data[j]) | pivot < data[j]，すなわち pivot < data[3] が真なのでループに入る | [2, 1, 3, 5, 4] | 3 | 3 | 3 |\n",
        "| 09 j ← j － 1 | iの値を1減算 | [2, 1, 3, 5, 4] | 3 | 3 | 2 |\n",
        "| 09 while (pivot ＜ data[j]) | pivot < data[j]，すなわち pivot < data[2] が偽なのでループを抜ける | [2, 1, 3, 5, 4] | 3 | 3 | 2 |\n",
        "| 09 if (i ≧ j) | 条件式が真 | [2, 1, 3, 5, 4] | 3 | 3 | 2 |\n",
        "| 09 繰返し処理を終了する | 繰返し処理を終了する | [2, 1, 3, 5, 4] | 3 | 3 | 2 |\n",
        "| 09 dataの全要素の値を要素番号の順に空白区切りで出力する | dataの全要素の値を要素番号の順に空白区切りで出力する | [2, 1, 3, 5, 4] | 3 | 3 | 2 |\n",
        "\n",
        "従って，最初にα行で表示される配列dataは\" 2 1 3 5 4 \"になります。\n"
      ],
      "metadata": {
        "id": "wcXv6AN9YXRi"
      }
    },
    {
      "cell_type": "markdown",
      "source": [
        "### Pythonでの実装例"
      ],
      "metadata": {
        "id": "UGVQ0EqZYgPg"
      }
    },
    {
      "cell_type": "code",
      "source": [
        "data = [2, 1, 3, 5, 4]\n",
        "\n",
        "def sort(first, last):\n",
        "  pivot = data[(first + last) // 2 - 1]\n",
        "  i = first\n",
        "  j = last\n",
        "  while True:\n",
        "    while data[i-1] < pivot:\n",
        "      i += 1\n",
        "    while pivot < data[j-1]:\n",
        "      j -= 1\n",
        "    if i >= j:\n",
        "      break\n",
        "    data[i-1], data[j-1] = data[j-1], data[i-1]\n",
        "    i += 1\n",
        "    j -= 1\n",
        "  print(data)\n",
        "  if first < i - 1:\n",
        "    sort(first, i - 1)\n",
        "  if j + 1 < last:\n",
        "    sort(j + 1, last)\n",
        "\n",
        "sort(1, 5)"
      ],
      "metadata": {
        "colab": {
          "base_uri": "https://localhost:8080/"
        },
        "id": "6R3dGvldnPb9",
        "outputId": "26e913d6-1294-44c3-99d1-16cb48baf4bd"
      },
      "execution_count": null,
      "outputs": [
        {
          "output_type": "stream",
          "name": "stdout",
          "text": [
            "[2, 1, 3, 5, 4]\n",
            "[1, 2, 3, 5, 4]\n",
            "[1, 2, 3, 4, 5]\n"
          ]
        }
      ]
    }
  ]
}