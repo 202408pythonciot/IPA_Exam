{
  "nbformat": 4,
  "nbformat_minor": 0,
  "metadata": {
    "colab": {
      "provenance": []
    },
    "kernelspec": {
      "name": "python3",
      "display_name": "Python 3"
    },
    "language_info": {
      "name": "python"
    }
  },
  "cells": [
    {
      "cell_type": "markdown",
      "source": [
        "# 素数一覧\n",
        "※令和5年 サンプル問題 問1\n",
        "\n",
        "---\n",
        "[Google Colaboratoryで開く](https://colab.research.google.com/github/202408pythonciot/IPA_Exam/blob/main/FE/Section_B/2023_sample/2023_FE_sample_B_Q1.ipynb)\n",
        "\n",
        "<a target=\"_blank\" href=\"https://colab.research.google.com/github/202408pythonciot/IPA_Exam/blob/main/FE/Section_B/2023_sample/2023_FE_sample_B_Q1.ipynb\">\n",
        "  <img src=\"https://colab.research.google.com/assets/colab-badge.svg\" alt=\"Open In Colab\"/>\n",
        "</a>\n",
        "\n",
        "---\n",
        "\n",
        "## **<font color= \"#a00\">問題</font>**\n",
        "> 次のプログラム中の［　a　］ と ［　b　］に入れる正しい答えの組合せを，解答群の中から選べ。ここで，配列の要素番号は 1 から始まる。\n",
        ">\n",
        "> 関数 findPrimeNumbers は，引数で与えられた整数以下の，全ての素数だけを格納\n",
        "した配列を返す関数である。ここで，引数に与える整数は 2 以上である。\n",
        "\n",
        "\n",
        "\n",
        "\n",
        "```\n",
        "01 ○整数型の配列: findPrimeNumbers(整数型: maxNum)\n",
        "02   整数型の配列: pnList ← {} // 要素数0の配列\n",
        "03   整数型: i, j\n",
        "04   論理型: divideFlag\n",
        "05   文字列型の配列: allItems ← ordersに含まれる文字列を\n",
        "06   for (i を 2 から［　a　］まで 1 ずつ増やす)\n",
        "07     divideFlag ← true\n",
        "08     /* iの正の平方根の整数部分が2未満のときは，繰返し処理を実行しない */\n",
        "09     for (j を 2 から iの正の平方根の整数部分 まで 1 ずつ増やす) // α\n",
        "10       if (［　b　］)\n",
        "11         divideFlag ← false\n",
        "12         αの行から始まる繰返し処理を終了する\n",
        "13       endif\n",
        "14     endfor\n",
        "15     if (divideFlag が true と等しい)\n",
        "16       pnListの末尾 に iの値 を追加する\n",
        "17     endif\n",
        "18     if (divideFlag が true と等しい)\n",
        "19       pnListの末尾 に iの値 を追加する\n",
        "20     endif\n",
        "21   endfor\n",
        "22   return pnList\n",
        "```\n",
        "\n",
        "\n",
        "**選択肢**\n",
        "\n",
        "|  | a | b |\n",
        "| --- | --- | --- |\n",
        "| ア | maxNum | $i \\div j$の余りが$0$と等しい |\n",
        "| イ | maxNum | $i \\div j$の商が$1$と等しくない |\n",
        "| ウ |  maxNum + 1 | $i \\div j$の余りが$0$と等しい |\n",
        "| エ |  maxNum + 1 | $i \\div j$の商が$1$と等しくない |\n",
        "\n"
      ],
      "metadata": {
        "id": "TOzL4z0BjreI"
      }
    },
    {
      "cell_type": "markdown",
      "source": [
        "### Pythonでの実装例"
      ],
      "metadata": {
        "id": "ZhGXrWNvsgoG"
      }
    },
    {
      "cell_type": "code",
      "source": [
        "def findPrimeNumbers(maxNum):\n",
        "  pnList = []\n",
        "  for i in range(2, maxNum + 1):\n",
        "    divideFlag = True\n",
        "    for j in range(2, int(i ** 0.5) + 1):\n",
        "      if i % j == 0:\n",
        "        divideFlag = False\n",
        "        break\n",
        "    if divideFlag is True:\n",
        "      pnList.append(i)\n",
        "  return pnList\n",
        "\n",
        "print(findPrimeNumbers(23))"
      ],
      "metadata": {
        "colab": {
          "base_uri": "https://localhost:8080/"
        },
        "id": "63zIyY-FXPJc",
        "outputId": "b78250f6-4b34-4b63-9de1-8b2d7fea5474"
      },
      "execution_count": null,
      "outputs": [
        {
          "output_type": "stream",
          "name": "stdout",
          "text": [
            "[2, 3, 5, 7, 11, 13, 17, 19, 23]\n"
          ]
        }
      ]
    }
  ]
}