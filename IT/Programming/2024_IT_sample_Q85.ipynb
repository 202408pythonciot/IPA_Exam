{
  "nbformat": 4,
  "nbformat_minor": 0,
  "metadata": {
    "colab": {
      "provenance": [],
      "collapsed_sections": [
        "nNkCcpYXJrTB"
      ]
    },
    "kernelspec": {
      "name": "python3",
      "display_name": "Python 3"
    },
    "language_info": {
      "name": "python"
    }
  },
  "cells": [
    {
      "cell_type": "markdown",
      "source": [
        "# 2進数を10進数に変換\n",
        "※令和6年 ITパスポート サンプル問題 問62\n",
        "\n",
        "\n",
        "---\n",
        "[Google Colaboratoryで開く](https://colab.research.google.com/github/202408pythonciot/IPA_Exam/blob/main/IT/Programming/2024_IT_sample_Q85.ipynb)\n",
        "\n",
        "<a target=\"_blank\" href=\"https://colab.research.google.com/github/202408pythonciot/IPA_Exam/blob/main/IT/Programming/2024_IT_sample_Q85.ipynb\">\n",
        "  <img src=\"https://colab.research.google.com/assets/colab-badge.svg\" alt=\"Open In Colab\"/>\n",
        "</a>\n",
        "\n",
        "---\n",
        "\n",
        "## **<font color= \"#a00\">問題</font>**\n",
        "> 関数 binaryToInteger は，1桁以上の符号なし2進数を文字列で表した値を引数 binaryStr で受け取り，その値を整数に変換した結果を戻り値とする。例えば，引数として\"100\"を受け取ると，4を返す。プログラム中のa，bに入れる字句の適切な組合せはどれか。\n",
        "\n",
        "```\n",
        "01 ◯整数型: binaryToInteger(文字列型: binaryStr)\n",
        "02   整数型: integerNum, digitNum, exponent, i\n",
        "03   integerNum ← 0\n",
        "04   for (i を 1 から binaryStrの文字数 まで 1 ずつ増やす)\n",
        "05     digitNum ← binaryStr の末尾から i番目の文字を整数型に変換した値\n",
        "06                                      // 例: 文字 \"1\" であれば整数値1に変換\n",
        "07     exponent ← ［　a　］\n",
        "08     integerNum ← ［　b　］\n",
        "09   endfor\n",
        "10   return integerNum\n",
        "```\n",
        "\n",
        "**選択肢**\n",
        "\n",
        "|  | a | b |\n",
        "| ------ | ------ | ------ |\n",
        "| ア | (2 の i 乗) - 1 | $$ integerNum \\times digitNum + exponent $$ |\n",
        "| イ | (2 の i 乗) - 1 | $$ integerNum + digitNum \\times exponent $$ |\n",
        "| ウ | 2 の (i - 1) 乗 | $$ integerNum \\times digitNum + exponent $$ |\n",
        "| エ | 2 の (i - 1) 乗 | $$ integerNum + digitNum \\times exponent $$ |\n",
        "\n",
        "\n"
      ],
      "metadata": {
        "id": "5v3bb2gVrUzE"
      }
    },
    {
      "cell_type": "markdown",
      "source": [
        "<details>\n",
        "<summary>\n",
        "<font color= \"#a00\" size=\"+1\"><b>正解</b></font>\n",
        "\n",
        "\n",
        "</summary>\n",
        "\n",
        "**正解**\n",
        "- エ　　a: 2 の (i - 1) 乗 , b: $ integerNum + digitNum \\times exponent $\n",
        "\n",
        "**解説**\n",
        "\n",
        "関数の戻り値として変数`integerNum`が渡されています。つまりこの変数に変換後の10進数の整数値が入ります。変数`digitNum`に引数で渡された2進数の文字列の$ i\n",
        "$ 桁目の整数値（0 or 1）が渡されます。変数`expornent`は2進数の$i$桁を10進数に変換した値，つまり$2^{i - 1}$の値が入ります。\n",
        "\n",
        "最後に $integerNum$ に $ digitNum \\times exponent $の値を足し合わせてます。\n",
        "\n",
        "\n",
        "\n",
        "</details>"
      ],
      "metadata": {
        "id": "y5zuO2UzCPbj"
      }
    },
    {
      "cell_type": "markdown",
      "source": [
        "### Pythonでの実装例\n"
      ],
      "metadata": {
        "id": "nNkCcpYXJrTB"
      }
    },
    {
      "cell_type": "code",
      "execution_count": 8,
      "metadata": {
        "colab": {
          "base_uri": "https://localhost:8080/",
          "height": 0
        },
        "collapsed": true,
        "id": "YMEVhqGCrST_",
        "outputId": "6fb91148-a869-4fb6-a9c6-e0039981d073"
      },
      "outputs": [
        {
          "output_type": "stream",
          "name": "stdout",
          "text": [
            "1 2 0\n",
            "2 1 0\n",
            "3 0 1\n"
          ]
        },
        {
          "output_type": "execute_result",
          "data": {
            "text/plain": [
              "4"
            ]
          },
          "metadata": {},
          "execution_count": 8
        }
      ],
      "source": [
        "def binaryToInteger(binaryStr):\n",
        "  integerNum = 0\n",
        "  for i in range(1, len(binaryStr) + 1):\n",
        "    digitNum = int(binaryStr[len(binaryStr) - i])\n",
        "    exponent = 2 ** (i - 1)\n",
        "    integerNum = integerNum + digitNum * exponent\n",
        "  return integerNum\n",
        "\n",
        "binaryToInteger(\"100\")"
      ]
    }
  ]
}