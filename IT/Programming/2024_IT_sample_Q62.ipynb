{
  "nbformat": 4,
  "nbformat_minor": 0,
  "metadata": {
    "colab": {
      "provenance": [],
      "collapsed_sections": [
        "nNkCcpYXJrTB"
      ]
    },
    "kernelspec": {
      "name": "python3",
      "display_name": "Python 3"
    },
    "language_info": {
      "name": "python"
    }
  },
  "cells": [
    {
      "cell_type": "markdown",
      "source": [
        "# 1次元配列\n",
        "※令和6年 ITパスポート サンプル問題 問62\n",
        "\n",
        "\n",
        "---\n",
        "[Google Colaboratoryで開く](https://colab.research.google.com/github/202408pythonciot/IPA_Exam/blob/main/IT/Programming/2024_IT_sample_Q62.ipynb)\n",
        "\n",
        "<a target=\"_blank\" href=\"https://colab.research.google.com/github/202408pythonciot/IPA_Exam/blob/main/IT/Programming/2024_IT_sample_Q62.ipynb\">\n",
        "  <img src=\"https://colab.research.google.com/assets/colab-badge.svg\" alt=\"Open In Colab\"/>\n",
        "</a>\n",
        "\n",
        "---\n",
        "\n",
        "## **<font color= \"#a00\">問題</font>**\n",
        "> 関数 convert は，整数型の配列を一定のルールで文字列に変換するプログラムである。関数 convert を convert(arrayInput) として呼び出したときの戻り値が\"AABAB\"になる引数 arrayInput の値はどれか。ここで，arrayInput の要素数は1以上とし，配列の要素番号は1から始まる。\n",
        "\n",
        "```\n",
        "01 ◯文字列型: convert(整数型の配列: arrayInput)\n",
        "02   文字列型: stringOutput ← \"\" // 空文字列を格納\n",
        "03   整数型: i\n",
        "04   for (i を 1 から arrayInputの要素数 まで 1 ずつ増やす)\n",
        "05     if (arrayInput[i] が 1 と等しい)\n",
        "06       stringOutput の末尾 に \"A\" を追加する\n",
        "07     else:\n",
        "08       stringOutput の末尾 に \"B\" を追加する\n",
        "09     endif\n",
        "10   endfor\n",
        "11   return stringOutput\n",
        "```\n",
        "\n",
        "**選択肢**\n",
        "- ア　　{0, 0, 1, 2, 1}\n",
        "- イ　　{0, 1, 1, 2, 1}\n",
        "- ウ　　{1, 0, 1, 2, 0}\n",
        "- エ　　{1, 1, 2, 1, 0}\n"
      ],
      "metadata": {
        "id": "zciVkvuw_x8R"
      }
    },
    {
      "cell_type": "markdown",
      "source": [
        "<details>\n",
        "<summary>\n",
        "<font color= \"#a00\" size=\"+1\"><b>正解</b></font>\n",
        "\n",
        "\n",
        "</summary>\n",
        "\n",
        "**正解**\n",
        "- エ　　{1, 1, 2, 1, 0}\n",
        "\n",
        "**解説**\n",
        "配列`arrayInput`で与えられた各要素を左から順番に評価し，要素が\"1\"であれれば，`stringOutput`の末尾に\"A\"を，それ以外であれば\"B\"を追加していきます。\n",
        "\n",
        "ここで\"AABAB\"で結果が出力されているので要素の3番目と5番目が1以外であることから，該当する選択肢は\"エ\"になります。\n",
        "\n",
        "\n",
        "\n",
        "</details>"
      ],
      "metadata": {
        "id": "y5zuO2UzCPbj"
      }
    },
    {
      "cell_type": "markdown",
      "source": [
        "### Pythonでの実装例\n"
      ],
      "metadata": {
        "id": "nNkCcpYXJrTB"
      }
    },
    {
      "cell_type": "code",
      "execution_count": 2,
      "metadata": {
        "colab": {
          "base_uri": "https://localhost:8080/",
          "height": 36
        },
        "id": "eZX-vbFQ_bFU",
        "outputId": "59f7395e-0a3d-404d-9284-e26cad53ce2c"
      },
      "outputs": [
        {
          "output_type": "execute_result",
          "data": {
            "text/plain": [
              "'AABAB'"
            ],
            "application/vnd.google.colaboratory.intrinsic+json": {
              "type": "string"
            }
          },
          "metadata": {},
          "execution_count": 2
        }
      ],
      "source": [
        "def convert(arrayInput):\n",
        "    stringOutput = \"\"\n",
        "    for i in range(len(arrayInput)):\n",
        "        if arrayInput[i] == 1:\n",
        "            stringOutput += \"A\"\n",
        "        else:\n",
        "            stringOutput += \"B\"\n",
        "    return stringOutput\n",
        "\n",
        "convert([1, 1, 2, 1, 0])"
      ]
    }
  ]
}